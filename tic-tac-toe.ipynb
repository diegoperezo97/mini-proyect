{
 "cells": [
  {
   "cell_type": "code",
   "execution_count": 1,
   "id": "f1564d49",
   "metadata": {},
   "outputs": [],
   "source": [
    "import time"
   ]
  },
  {
   "cell_type": "code",
   "execution_count": 2,
   "id": "267deeef",
   "metadata": {},
   "outputs": [],
   "source": [
    "def userMark():\n",
    "    marks = ['X', 'x', 'o', '0', 'O']\n",
    "    player = input(\"Enter your choice: 'X' or '0': \").upper()\n",
    "    while player not in marks:\n",
    "        player = input(\"Enter your choice: 'X' or '0': \")\n",
    "    \n",
    "    if player == 'X':\n",
    "        computer = '0'\n",
    "    elif player == 'x':\n",
    "        computer = '0'\n",
    "    elif player == 'O':\n",
    "        computer = 'X'\n",
    "    elif player == 'o':\n",
    "        computer = 'X'\n",
    "    elif player == '0':\n",
    "        computer = 'X'\n",
    "    \n",
    "    return(player, computer)"
   ]
  },
  {
   "cell_type": "code",
   "execution_count": 3,
   "id": "fe65ba16",
   "metadata": {},
   "outputs": [],
   "source": [
    "global firstComputerMove\n",
    "firstComputerMove = True"
   ]
  },
  {
   "cell_type": "code",
   "execution_count": 4,
   "id": "2174faab",
   "metadata": {},
   "outputs": [],
   "source": [
    "board = {\n",
    "    1: ' ', 2: ' ', 3: ' ',\n",
    "    4: ' ', 5: ' ', 6: ' ',\n",
    "    7: ' ', 8: ' ', 9: ' '\n",
    "}"
   ]
  },
  {
   "cell_type": "code",
   "execution_count": 5,
   "id": "73061420",
   "metadata": {},
   "outputs": [],
   "source": [
    "board_instructions = {\n",
    "    1: '1', 2: '2', 3: '3',\n",
    "    4: '4', 5: '5', 6: '6',\n",
    "    7: '7', 8: '8', 9: '9'\n",
    "}"
   ]
  },
  {
   "cell_type": "code",
   "execution_count": 6,
   "id": "80a0661c",
   "metadata": {},
   "outputs": [],
   "source": [
    "def printBoard(board):\n",
    "    print(board[1] + ' | ' + board[2] + ' | ' + board[3])\n",
    "    print('- + - + -')\n",
    "    print(board[4] + ' | ' + board[5] + ' | ' + board[6])\n",
    "    print('- + - + -')\n",
    "    print(board[7] + ' | ' + board[8] + ' | ' + board[9])\n",
    "    print('\\n')"
   ]
  },
  {
   "cell_type": "code",
   "execution_count": 7,
   "id": "63dfac9a",
   "metadata": {},
   "outputs": [],
   "source": [
    "def printBoardInstructions(board_instructions):\n",
    "    print(board_instructions[1] + ' | ' + board_instructions[2] + ' | ' + board_instructions[3])\n",
    "    print('- + - + -')\n",
    "    print(board_instructions[4] + ' | ' + board_instructions[5] + ' | ' + board_instructions[6])\n",
    "    print('- + - + -')\n",
    "    print(board_instructions[7] + ' | ' + board_instructions[8] + ' | ' + board_instructions[9])\n",
    "    print('\\n')"
   ]
  },
  {
   "cell_type": "code",
   "execution_count": 8,
   "id": "053b1a18",
   "metadata": {},
   "outputs": [],
   "source": [
    "def spaceIsFree(position):\n",
    "    if(board[position] == ' '):\n",
    "        return True\n",
    "    else:\n",
    "        return False"
   ]
  },
  {
   "cell_type": "code",
   "execution_count": 9,
   "id": "30fc976f",
   "metadata": {},
   "outputs": [],
   "source": [
    "def insertLetter(letter, position):\n",
    "    if spaceIsFree(position):\n",
    "        board[position] = letter\n",
    "        printBoard(board)\n",
    "        if (checkDraw()):\n",
    "            print(\"Draw!\")\n",
    "            exit()\n",
    "        if checkForWin():\n",
    "            if letter == f'{computer}':\n",
    "                print(\"Computer wins!\")\n",
    "                exit()\n",
    "            else:\n",
    "                print(\"Player wins!\")\n",
    "                exit()\n",
    "        return\n",
    "\n",
    "\n",
    "    else:\n",
    "        print(\"Can't insert there!\")\n",
    "        position = int(input(\"Please enter new position:  \"))\n",
    "        insertLetter(letter, position)\n",
    "        return"
   ]
  },
  {
   "cell_type": "code",
   "execution_count": 10,
   "id": "2b634cc7",
   "metadata": {},
   "outputs": [],
   "source": [
    "def checkForWin():\n",
    "    if(board[1] == board[2] and board[1] == board[3] and board[1] != ' '):\n",
    "        return True\n",
    "    elif(board[4] == board[5] and board[4] == board[6] and board[4] != ' '):\n",
    "        return True\n",
    "    elif(board[7] == board[8] and board[8] == board[9] and board[7] != ' '):\n",
    "        return True\n",
    "    elif(board[1] == board[4] and board[4] == board[7] and board[1] != ' '):\n",
    "        return True\n",
    "    elif(board[2] == board[5] and board[2] == board[8] and board[2] != ' '):\n",
    "        return True\n",
    "    elif(board[3] == board[6] and board[3] == board[9] and board[3] != ' '):\n",
    "        return True\n",
    "    elif(board[1] == board[5] and board[1] == board[9] and board[1] != ' '):\n",
    "        return True\n",
    "    elif(board[3] == board[5] and board[3] == board[7] and board[3] != ' '):\n",
    "        return True\n",
    "    else:\n",
    "        return False"
   ]
  },
  {
   "cell_type": "code",
   "execution_count": 11,
   "id": "0f314d78",
   "metadata": {},
   "outputs": [],
   "source": [
    "def checkWhichMarkWon(mark):\n",
    "    if(board[1] == board[2] and board[1] == board[3] and board[1] != mark):\n",
    "        return True\n",
    "    elif(board[4] == board[5] and board[4] == board[6] and board[4] != mark):\n",
    "        return True\n",
    "    elif(board[7] == board[8] and board[8] == board[9] and board[7] != mark):\n",
    "        return True\n",
    "    elif(board[1] == board[4] and board[4] == board[7] and board[1] != mark):\n",
    "        return True\n",
    "    elif(board[2] == board[5] and board[2] == board[8] and board[2] != mark):\n",
    "        return True\n",
    "    elif(board[3] == board[6] and board[3] == board[9] and board[3] != mark):\n",
    "        return True\n",
    "    elif(board[1] == board[5] and board[1] == board[9] and board[1] != mark):\n",
    "        return True\n",
    "    elif(board[3] == board[5] and board[3] == board[7] and board[3] != mark):\n",
    "        return True\n",
    "    else:\n",
    "        return False"
   ]
  },
  {
   "cell_type": "code",
   "execution_count": 12,
   "id": "c5112d0a",
   "metadata": {},
   "outputs": [],
   "source": [
    "def checkDraw():\n",
    "    for key in board.keys():\n",
    "        if (board[key] == ' '):\n",
    "            return False\n",
    "    return True"
   ]
  },
  {
   "cell_type": "code",
   "execution_count": 13,
   "id": "3a0542a5",
   "metadata": {},
   "outputs": [],
   "source": [
    "def playerMove(player):\n",
    "    position = int(input(\"Enter the position for your mark: \"))\n",
    "    insertLetter(player, position)\n",
    "    return"
   ]
  },
  {
   "cell_type": "code",
   "execution_count": 14,
   "id": "3e857a63",
   "metadata": {},
   "outputs": [],
   "source": [
    "def computerMove(computer):\n",
    "    bestScore = -800\n",
    "    bestMove = 0\n",
    "    for key in board.keys():\n",
    "        if (board[key] == ' '):\n",
    "            board[key] = computer\n",
    "            score = minimax(board, 0, False)\n",
    "            board[key] = ' '\n",
    "            if (score > bestScore):\n",
    "                bestScore = score\n",
    "                bestMove = key\n",
    "\n",
    "    insertLetter(computer, bestMove)\n",
    "    return"
   ]
  },
  {
   "cell_type": "code",
   "execution_count": 15,
   "id": "18d91923",
   "metadata": {},
   "outputs": [],
   "source": [
    "def minimax(board, depth, isMaximizing):\n",
    "    if (checkWhichMarkWon(computer)):\n",
    "        return 1\n",
    "    elif (checkWhichMarkWon(player)):\n",
    "        return -1\n",
    "    elif (checkDraw()):\n",
    "        return 0\n",
    "\n",
    "    if (isMaximizing):\n",
    "        bestScore = -800\n",
    "        for key in board.keys():\n",
    "            if (board[key] == ' '):\n",
    "                board[key] = computer\n",
    "                score = minimax(board, depth + 1, False)\n",
    "                board[key] = ' '\n",
    "                if (score > bestScore):\n",
    "                    bestScore = score\n",
    "        return bestScore\n",
    "\n",
    "    else:\n",
    "        bestScore = 800\n",
    "        for key in board.keys():\n",
    "            if (board[key] == ' '):\n",
    "                board[key] = player\n",
    "                score = minimax(board, depth + 1, True)\n",
    "                board[key] = ' '\n",
    "                if (score < bestScore):\n",
    "                    bestScore = score\n",
    "        return bestScore"
   ]
  },
  {
   "cell_type": "code",
   "execution_count": 16,
   "id": "2c8b3874",
   "metadata": {},
   "outputs": [],
   "source": [
    "def instructions():\n",
    "    print('* Welcome to the Tic Tac Toe game!')\n",
    "    time.sleep(2)\n",
    "    print('* Today you are going to play Tic Tac Toe against your computer…')\n",
    "    time.sleep(3)\n",
    "    print('* But first, let me explain you the basics of the game…')\n",
    "    time.sleep(3)\n",
    "    print('* Tic Tac Toe is a simple strategy, tactics and observation game, with roots in Ancient Egypt…')\n",
    "    time.sleep(3)\n",
    "    print('* Players choose either an X or an O as their mark, and take turns marking the spaces in a 3×3 grid…')\n",
    "    time.sleep(3)\n",
    "    print('* The player who succeeds in placing three of their marks in a diagonal, horizontal, or vertical row is the winner…')\n",
    "    time.sleep(3)\n",
    "    print('* Tic Tac Toe involves looking ahead and trying to figure out what the person playing against you might do next…')\n",
    "    time.sleep(3)\n",
    "    print('* Traditionally, the game has been played either by drawing marks with a pen over a piece of paper, or by placing pieces over a board…')\n",
    "    time.sleep(3)\n",
    "    print('* But today you are going to play Tic Tac Toe through your computer…')\n",
    "    time.sleep(3)\n",
    "    print('* As mentioned, Tic Tac Toe is played over a 3x3 grid…')\n",
    "    time.sleep(3)\n",
    "    print('* We are going to emulate that grid through a 3x3 matrix with numbered positions. Like the one presented bellow…')\n",
    "    printBoardInstructions(board_instructions)\n",
    "    time.sleep(3)\n",
    "    print('* Your computer will ask you which position would you like to mark and you need to input the number that that specific position has (taking into consideration the diagram previously shown…')\n",
    "    time.sleep(3)\n",
    "    print('* Again, for a player to win, there has to be three of the same marks continuosly placed vertically, diagonally or horizontally…')\n",
    "    time.sleep(3)\n",
    "    print(\"\"\"* In this case, winner combinations would be:\n",
    "          1.- (1, 2, 3) * HORIZONTAL COMINATION *\n",
    "          2.- (4, 5, 6) * HORIZONTAL COMINATION *\n",
    "          3.- (7, 8, 9) * HORIZONTAL COMINATION *\n",
    "          4.- (1, 4, 7) * VERTICAL COMINATION *\n",
    "          5.- (2, 5, 8) * VERTICAL COMINATION *\n",
    "          6.- (3, 6, 9) * VERTICAL COMINATION *\n",
    "          7.- (1, 5, 9) * DIAGONAL COMBINATION *\n",
    "          8.- (3, 5, 7) * DIAGONAL COMBINATION *\n",
    "          \"\"\")\n",
    "    time.sleep(3)\n",
    "    print('Good luck!')\n",
    "    return()"
   ]
  },
  {
   "cell_type": "code",
   "execution_count": null,
   "id": "49fdce91",
   "metadata": {},
   "outputs": [
    {
     "name": "stdout",
     "output_type": "stream",
     "text": [
      "* Welcome to the Tic Tac Toe game!\n",
      "* Today you are going to play Tic Tac Toe against your computer…\n",
      "* But first, let me explain you the basics of the game…\n",
      "* Tic Tac Toe is a simple strategy, tactics and observation game, with roots in Ancient Egypt…\n",
      "* Players choose either an X or an O as their mark, and take turns marking the spaces in a 3×3 grid…\n",
      "* The player who succeeds in placing three of their marks in a diagonal, horizontal, or vertical row is the winner…\n",
      "* Tic Tac Toe involves looking ahead and trying to figure out what the person playing against you might do next…\n",
      "* Traditionally, the game has been played either by drawing marks with a pen over a piece of paper, or by placing pieces over a board…\n",
      "* But today you are going to play Tic Tac Toe through your computer…\n",
      "* As mentioned, Tic Tac Toe is played over a 3x3 grid…\n",
      "* We are going to emulate that grid through a 3x3 matrix with numbered positions. Like the one presented bellow…\n",
      "1 | 2 | 3\n",
      "- + - + -\n",
      "4 | 5 | 6\n",
      "- + - + -\n",
      "7 | 8 | 9\n",
      "\n",
      "\n",
      "* Your computer will ask you which position would you like to mark and you need to input the number that that specific position has (taking into consideration the diagram previously shown…\n",
      "* Again, for a player to win, there has to be three of the same marks continuosly placed vertically, diagonally or horizontally…\n",
      "* In this case, winner combinations would be:\n",
      "          1.- (1, 2, 3) * HORIZONTAL COMINATION *\n",
      "          2.- (4, 5, 6) * HORIZONTAL COMINATION *\n",
      "          3.- (7, 8, 9) * HORIZONTAL COMINATION *\n",
      "          4.- (1, 4, 7) * VERTICAL COMINATION *\n",
      "          5.- (2, 5, 8) * VERTICAL COMINATION *\n",
      "          6.- (3, 6, 9) * VERTICAL COMINATION *\n",
      "          7.- (1, 5, 9) * DIAGONAL COMBINATION *\n",
      "          8.- (3, 5, 7) * DIAGONAL COMBINATION *\n",
      "          \n",
      "Good luck!\n"
     ]
    }
   ],
   "source": [
    "instructions()\n",
    "player, computer = userMark()\n",
    "global player, computer \n",
    "while not checkForWin():\n",
    "    computerMove(computer)\n",
    "    playerMove(player)"
   ]
  },
  {
   "cell_type": "code",
   "execution_count": null,
   "id": "b3a34822",
   "metadata": {},
   "outputs": [],
   "source": []
  }
 ],
 "metadata": {
  "kernelspec": {
   "display_name": "Python 3",
   "language": "python",
   "name": "python3"
  },
  "language_info": {
   "codemirror_mode": {
    "name": "ipython",
    "version": 3
   },
   "file_extension": ".py",
   "mimetype": "text/x-python",
   "name": "python",
   "nbconvert_exporter": "python",
   "pygments_lexer": "ipython3",
   "version": "3.9.5"
  }
 },
 "nbformat": 4,
 "nbformat_minor": 5
}
